{
 "cells": [
  {
   "cell_type": "code",
   "execution_count": 4,
   "metadata": {},
   "outputs": [],
   "source": [
    "from gensim.test.utils import common_texts\n",
    "from gensim.models import word2vec"
   ]
  },
  {
   "cell_type": "code",
   "execution_count": 5,
   "metadata": {},
   "outputs": [
    {
     "name": "stdout",
     "output_type": "stream",
     "text": [
      "[['human', 'interface', 'computer'], ['survey', 'user', 'computer', 'system', 'response', 'time'], ['eps', 'user', 'interface', 'system'], ['system', 'human', 'system', 'eps'], ['user', 'response', 'time'], ['trees'], ['graph', 'trees'], ['graph', 'minors', 'trees'], ['graph', 'minors', 'survey']]\n"
     ]
    }
   ],
   "source": [
    "print(common_texts)"
   ]
  },
  {
   "cell_type": "code",
   "execution_count": 6,
   "metadata": {},
   "outputs": [
    {
     "name": "stderr",
     "output_type": "stream",
     "text": [
      "D:\\tensflow\\lib\\site-packages\\gensim\\matutils.py:737: FutureWarning: Conversion of the second argument of issubdtype from `int` to `np.signedinteger` is deprecated. In future, it will be treated as `np.int32 == np.dtype(int).type`.\n",
      "  if np.issubdtype(vec.dtype, np.int):\n"
     ]
    },
    {
     "data": {
      "text/plain": [
       "[('system', 0.2711716592311859),\n",
       " ('time', 0.1644255369901657),\n",
       " ('survey', 0.14060881733894348),\n",
       " ('human', 0.13812506198883057),\n",
       " ('interface', 0.0400126688182354),\n",
       " ('eps', 0.025589467957615852),\n",
       " ('response', -0.0026778951287269592),\n",
       " ('trees', -0.02623327262699604),\n",
       " ('user', -0.039339467883110046),\n",
       " ('graph', -0.09157819300889969)]"
      ]
     },
     "execution_count": 6,
     "metadata": {},
     "output_type": "execute_result"
    }
   ],
   "source": [
    "model = word2vec.Word2Vec(common_texts, size =100, window=5, min_count =1, workers=4)\n",
    "model.wv.most_similar(\"computer\")"
   ]
  },
  {
   "cell_type": "code",
   "execution_count": 7,
   "metadata": {},
   "outputs": [
    {
     "name": "stdout",
     "output_type": "stream",
     "text": [
      "most similar:\n",
      " [('human', 0.2792605757713318), ('computer', 0.2711716592311859), ('survey', 0.09751902520656586), ('user', 0.09749004244804382), ('graph', 0.08822132647037506), ('time', 0.07955716550350189), ('trees', 0.025949254631996155), ('eps', 0.016387032344937325), ('minors', -0.11397942900657654), ('interface', -0.16222362220287323)]\n"
     ]
    },
    {
     "name": "stderr",
     "output_type": "stream",
     "text": [
      "D:\\tensflow\\lib\\site-packages\\gensim\\matutils.py:737: FutureWarning: Conversion of the second argument of issubdtype from `int` to `np.signedinteger` is deprecated. In future, it will be treated as `np.int32 == np.dtype(int).type`.\n",
      "  if np.issubdtype(vec.dtype, np.int):\n"
     ]
    }
   ],
   "source": [
    "print(\"most similar:\\n\", model.wv.most_similar(\"system\"))"
   ]
  },
  {
   "cell_type": "code",
   "execution_count": 8,
   "metadata": {},
   "outputs": [
    {
     "name": "stdout",
     "output_type": "stream",
     "text": [
      "similarity:\n",
      " 0.029894326\n"
     ]
    },
    {
     "name": "stderr",
     "output_type": "stream",
     "text": [
      "D:\\tensflow\\lib\\site-packages\\gensim\\matutils.py:737: FutureWarning: Conversion of the second argument of issubdtype from `int` to `np.signedinteger` is deprecated. In future, it will be treated as `np.int32 == np.dtype(int).type`.\n",
      "  if np.issubdtype(vec.dtype, np.int):\n"
     ]
    }
   ],
   "source": [
    "print(\"similarity:\\n\" , model.wv.similarity(\"response\", \"survey\"))"
   ]
  },
  {
   "cell_type": "code",
   "execution_count": 12,
   "metadata": {},
   "outputs": [
    {
     "name": "stdout",
     "output_type": "stream",
     "text": [
      "most mimilar(option) :\n",
      " [('system', 0.2159103900194168), ('response', 0.1354534924030304), ('computer', 0.07915406674146652), ('graph', 0.07157444953918457), ('time', 0.06774727255105972), ('user', 0.04744504764676094), ('minors', 0.0229528546333313), ('interface', -0.004451096057891846), ('survey', -0.03415604680776596), ('eps', -0.14631099998950958)]\n"
     ]
    },
    {
     "name": "stderr",
     "output_type": "stream",
     "text": [
      "D:\\tensflow\\lib\\site-packages\\gensim\\matutils.py:737: FutureWarning: Conversion of the second argument of issubdtype from `int` to `np.signedinteger` is deprecated. In future, it will be treated as `np.int32 == np.dtype(int).type`.\n",
      "  if np.issubdtype(vec.dtype, np.int):\n"
     ]
    }
   ],
   "source": [
    "print(\"most mimilar(option) :\\n\", model.wv.most_similar(positive=[\"human\",\"trees\"], topn=10))"
   ]
  },
  {
   "cell_type": "code",
   "execution_count": 13,
   "metadata": {},
   "outputs": [
    {
     "name": "stdout",
     "output_type": "stream",
     "text": [
      "most mimilar(option) :\n",
      " [('computer', 0.26480522751808167), ('system', 0.11397942900657654), ('graph', 0.0962984561920166), ('response', 0.08686649799346924), ('interface', 0.0713687539100647), ('eps', 0.0072171650826931), ('survey', 0.002651304006576538), ('human', -0.0068106018006801605), ('trees', -0.025635454803705215), ('user', -0.03225044906139374)]\n"
     ]
    },
    {
     "name": "stderr",
     "output_type": "stream",
     "text": [
      "D:\\tensflow\\lib\\site-packages\\gensim\\matutils.py:737: FutureWarning: Conversion of the second argument of issubdtype from `int` to `np.signedinteger` is deprecated. In future, it will be treated as `np.int32 == np.dtype(int).type`.\n",
      "  if np.issubdtype(vec.dtype, np.int):\n"
     ]
    }
   ],
   "source": [
    "print(\"most mimilar(option) :\\n\", model.wv.most_similar(negative=[\"minors\"], topn=10))"
   ]
  },
  {
   "cell_type": "code",
   "execution_count": 14,
   "metadata": {},
   "outputs": [
    {
     "name": "stdout",
     "output_type": "stream",
     "text": [
      "most mimilar(option) :\n",
      " [('system', 0.24475274980068207), ('computer', 0.21994270384311676), ('response', 0.1625165194272995), ('graph', 0.1153005063533783), ('interface', 0.037996433675289154), ('user', 0.020329028367996216), ('survey', -0.02664293721318245), ('time', -0.04061553627252579), ('eps', -0.11654507368803024)]\n"
     ]
    },
    {
     "name": "stderr",
     "output_type": "stream",
     "text": [
      "D:\\tensflow\\lib\\site-packages\\gensim\\matutils.py:737: FutureWarning: Conversion of the second argument of issubdtype from `int` to `np.signedinteger` is deprecated. In future, it will be treated as `np.int32 == np.dtype(int).type`.\n",
      "  if np.issubdtype(vec.dtype, np.int):\n"
     ]
    }
   ],
   "source": [
    "print(\"most mimilar(option) :\\n\", model.wv.most_similar(positive=[\"human\",\"trees\"], negative=[\"minors\"], topn=10))"
   ]
  },
  {
   "cell_type": "code",
   "execution_count": null,
   "metadata": {},
   "outputs": [],
   "source": []
  }
 ],
 "metadata": {
  "kernelspec": {
   "display_name": "Python 3",
   "language": "python",
   "name": "python3"
  },
  "language_info": {
   "codemirror_mode": {
    "name": "ipython",
    "version": 3
   },
   "file_extension": ".py",
   "mimetype": "text/x-python",
   "name": "python",
   "nbconvert_exporter": "python",
   "pygments_lexer": "ipython3",
   "version": "3.6.5"
  }
 },
 "nbformat": 4,
 "nbformat_minor": 2
}
